{
 "cells": [
  {
   "cell_type": "code",
   "execution_count": 3,
   "metadata": {},
   "outputs": [],
   "source": [
    "from dgh_franka.core import getDataPath \n",
    "import pinocchio\n"
   ]
  },
  {
   "cell_type": "code",
   "execution_count": 4,
   "metadata": {},
   "outputs": [],
   "source": [
    "pinocchio.__file__"
   ]
  },
  {
   "cell_type": "code",
   "execution_count": null,
   "metadata": {},
   "outputs": [],
   "source": [
    "getDataPath()"
   ]
  },
  {
   "cell_type": "code",
   "execution_count": null,
   "metadata": {},
   "outputs": [],
   "source": [
    "import os\n",
    "config_files_path = os.path.join(getDataPath(), 'interface_configs')\n",
    "config_files = os.listdir(config_files_path)\n",
    "config_files"
   ]
  },
  {
   "cell_type": "code",
   "execution_count": null,
   "metadata": {},
   "outputs": [],
   "source": [
    "import json\n",
    "import select\n",
    "import threading\n",
    "import time\n",
    "from time import sleep\n",
    "\n",
    "import dynamic_graph_manager_cpp_bindings\n",
    "import lcm\n",
    "import numpy as np\n",
    "import yaml\n",
    "import zmq  # Import the communication libs for connecting to the plotJuggler\n",
    "\n",
    "from dgh_franka.ipc_trigger_t import ipc_trigger_t\n",
    "import os\n",
    "\n",
    "class FrankaDynamicGraphHead:\n",
    "    def __init__(\n",
    "        self,\n",
    "        robot_id,\n",
    "        interface_type,\n",
    "        plotting=False,\n",
    "        plotter_port=5555,\n",
    "    ):\n",
    "        \n",
    "        self.plotter_port = plotter_port\n",
    "        self.plotting = plotting\n",
    "        self.state = None\n",
    "        self.trigger_timestamp = 0\n",
    "        # Get the path and names of the interface yaml files \n",
    "        config_files_path = \\\n",
    "        os.path.join(getDataPath(), 'interface_configs')\n",
    "        config_files = os.listdir(config_files_path)\n",
    "        # Extract the defined interfaces types\n",
    "        self.defined_interfaces = \\\n",
    "        [f.split('fr3_')[1].split('.yaml')[0] for f in config_files]\n",
    "        # Make sure the chosen interface is defined\n",
    "        assert interface_type in self.defined_interfaces, \\\n",
    "        f'interface can onely be {[i for i in self.defined_interfaces]}'\n",
    "        robot_interface_config = os.path.join(config_files_path,f'fr3_{interface_type}.yaml')\n",
    "        #Extract the robot information from the config file        \n",
    "        with open(robot_interface_config, 'r') as f:\n",
    "            robot_config = yaml.safe_load(f)\n",
    "\n",
    "        self.robot_config = robot_config\n",
    "        robot_name = robot_config['device']['name']\n",
    "        self.lcm_trigger_toppic = f'{robot_name}_trigger'\n",
    "        self.cmd_dim = \\\n",
    "        [v['size'] for v in robot_config['device']['controls'].values()][1]\n",
    "        self.robot_sensors = list(robot_config['device']['sensors'].keys())\n",
    "        self.robot_cmd = list(robot_config['device']['controls'].keys())[1]\n",
    "\n",
    "        # Instantiate a Dynamic Graph Head (DGH) class to connect to the robot\n",
    "        self.head = dynamic_graph_manager_cpp_bindings.DGMHead(robot_interface_config)\n",
    "\n",
    "        # Threading Interface for getting sync triggers from the DGM over LCM\n",
    "        self.trigger_msg = ipc_trigger_t()\n",
    "        self.lc = lcm.LCM()\n",
    "        self.subscription = self.lc.subscribe(\n",
    "            self.lcm_trigger_toppic, self.trigger_callback\n",
    "        )\n",
    "        self.subscription.set_queue_capacity(1)\n",
    "        self.running = True\n",
    "        self.lcm_thread = threading.Thread(target=self.LCMThreadFunc)\n",
    "        self.lcm_thread.start()\n",
    "        # Enable the ZMQ interface for the PlotJuggler\n",
    "        if self.plotting:\n",
    "            # Interface for plotting and logging the data\n",
    "            self.context = zmq.Context()\n",
    "            self.socket = self.context.socket(zmq.PUB)\n",
    "            self.socket.bind(f\"tcp://*:{self.plotter_port}\")\n",
    "        sleep(0.2)\n",
    "        print(\"Interface Running...\")\n",
    "\n",
    "\n",
    "    def LCMThreadFunc(self):\n",
    "\n",
    "        while self.running:\n",
    "            rfds, wfds, efds = select.select([self.lc.fileno()], [], [], 0.5)\n",
    "            if rfds: # Handle only if there are data in the interface file\n",
    "                self.lc.handle()\n",
    "\n",
    "    def trigger_callback(self, channel, data):\n",
    "        msg = ipc_trigger_t.decode(data)\n",
    "        self.trigger_timestamp = \\\n",
    "            np.array(msg.timestamp).reshape(1, 1) / 1000000\n",
    "        self.update()\n",
    "    \n",
    "    def update(self):\n",
    "        # Get the sensor values from the shared memory\n",
    "        self.head.read()\n",
    "        self.state = {sensor:self.head.get_sensor(sensor).copy() \n",
    "                 for sensor in self.robot_sensors}\n",
    "        \n",
    "    def readJoints(self):\n",
    "        if time.time()-self.trigger_timestamp > 0.2:\n",
    "            self.state = None\n",
    "            return None\n",
    "        else:\n",
    "            return self.state\n",
    "\n",
    "    def setCommand(self, cmd):\n",
    "        self.head.set_control(self.robot_cmd, cmd.reshape(self.cmd_dim, 1))\n",
    "        self.head.set_control(\"ctrl_stamp\", np.array(self.trigger_timestamp).reshape(1, 1))\n",
    "        self.head.write()\n",
    "        self.cmd_log = cmd\n",
    "    \n",
    "    def plotterUpdate(self):\n",
    "        assert self.plotter, 'Plotter interface is not enabled.'\n",
    "        if self.state is not None:\n",
    "            state = {k:v.tolist() for k,v in self.state.item()}\n",
    "            data = {\n",
    "                    \"timestamp\": self.trigger_timestamp,\n",
    "                    \"cmd\": self.cmd_log.tolist(),\n",
    "                    \"robot_states\": state,\n",
    "                    }\n",
    "            self.socket.send_string(json.dumps(data))\n",
    "\n",
    "    def close(self):\n",
    "        self.running = False\n",
    "        self.controller = None\n",
    "        self.lcm_thread.join()\n",
    "        self.lc.unsubscribe(self.subscription)\n",
    "        if self.plotting:\n",
    "            self.socket.close()\n",
    "        del self.lc\n",
    "        del self.head\n",
    "        print(\"Interface Closed.\")"
   ]
  },
  {
   "cell_type": "code",
   "execution_count": null,
   "metadata": {},
   "outputs": [],
   "source": [
    "from dgh_franka import FrankaDynamicGraphHead\n",
    "dgh = FrankaDynamicGraphHead(robot_id=0, interface_type='joint_kin_interface')"
   ]
  },
  {
   "cell_type": "code",
   "execution_count": null,
   "metadata": {},
   "outputs": [],
   "source": [
    "dgh.readJoints()"
   ]
  },
  {
   "cell_type": "code",
   "execution_count": null,
   "metadata": {},
   "outputs": [],
   "source": []
  }
 ],
 "metadata": {
  "kernelspec": {
   "display_name": "Python 3",
   "language": "python",
   "name": "python3"
  },
  "language_info": {
   "codemirror_mode": {
    "name": "ipython",
    "version": 3
   },
   "file_extension": ".py",
   "mimetype": "text/x-python",
   "name": "python",
   "nbconvert_exporter": "python",
   "pygments_lexer": "ipython3",
   "version": "3.8.10"
  },
  "orig_nbformat": 4,
  "vscode": {
   "interpreter": {
    "hash": "916dbcbb3f70747c44a77c7bcd40155683ae19c65e1c03b4aa3499c5328201f1"
   }
  }
 },
 "nbformat": 4,
 "nbformat_minor": 2
}
