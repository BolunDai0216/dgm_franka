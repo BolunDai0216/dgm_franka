{
 "cells": [
  {
   "cell_type": "code",
   "execution_count": 1,
   "metadata": {},
   "outputs": [],
   "source": [
    "from dgh_franka import getDataPath\n",
    "from pinocchio.robot_wrapper import RobotWrapper\n",
    "import json\n",
    "import select\n",
    "import threading\n",
    "import time\n",
    "from time import sleep\n",
    "\n",
    "import dynamic_graph_manager_cpp_bindings\n",
    "import lcm\n",
    "import numpy as np\n",
    "import yaml\n",
    "import zmq  # Import the communication libs for connecting to the plotJuggler\n",
    "\n",
    "from dgh_franka.ipc_trigger_t import ipc_trigger_t\n",
    "import os\n",
    "import pinocchio as pin\n",
    "import copy\n"
   ]
  },
  {
   "cell_type": "code",
   "execution_count": 2,
   "metadata": {},
   "outputs": [
    {
     "data": {
      "text/plain": [
       "'/usr/local/lib/python3.8/dist-packages/dgh_franka'"
      ]
     },
     "execution_count": 2,
     "metadata": {},
     "output_type": "execute_result"
    }
   ],
   "source": [
    "getDataPath()\n",
    "# os.listdir(getDataPath())"
   ]
  },
  {
   "cell_type": "code",
   "execution_count": null,
   "metadata": {},
   "outputs": [],
   "source": [
    "package_directory = getDataPath()\n",
    "robot_URDF = package_directory + \"/robots/fr3.urdf\"\n",
    "urdf_search_path = package_directory + \"/robots\"\n",
    "# # Build pin_robot\n",
    "pin_robot = RobotWrapper.BuildFromURDF(robot_URDF, package_directory)"
   ]
  },
  {
   "cell_type": "code",
   "execution_count": null,
   "metadata": {},
   "outputs": [],
   "source": [
    "class FrankaDGH:\n",
    "    def __init__(\n",
    "        self,\n",
    "        interface_type,\n",
    "        plotting=False,\n",
    "        plotter_port=5555,\n",
    "    ):\n",
    "        \n",
    "        self.plotter_port = plotter_port\n",
    "        self.plotting = plotting\n",
    "        self.state = None\n",
    "        self.trigger_timestamp = 0\n",
    "        \n",
    "        # Pinocchio Robot\n",
    "        package_directory = getDataPath()\n",
    "        robot_URDF = package_directory + \"/robots/fr3.urdf\"\n",
    "        urdf_search_path = package_directory + \"/robots\"\n",
    "        self.robot = RobotWrapper.BuildFromURDF(robot_URDF, package_directory)\n",
    "        #End-effector frame id\n",
    "        self.EE_FRAME_ID = 26\n",
    "        # Get frame ID for grasp target\n",
    "        self.jacobian_frame = pin.ReferenceFrame.LOCAL_WORLD_ALIGNED\n",
    "\n",
    "        # Get the path and names of the interface yaml files \n",
    "        config_files_path = \\\n",
    "        os.path.join(getDataPath(), 'interface_configs')\n",
    "        config_files = os.listdir(config_files_path)\n",
    "        # Extract the defined interfaces types\n",
    "        self.defined_interfaces = \\\n",
    "        [f.split('fr3_')[1].split('.yaml')[0] for f in config_files]\n",
    "        # Make sure the chosen interface is defined\n",
    "        assert interface_type in self.defined_interfaces, \\\n",
    "        f'interface can onely be {[i for i in self.defined_interfaces]}'\n",
    "        robot_interface_config = os.path.join(config_files_path,f'fr3_{interface_type}.yaml')\n",
    "        #Extract the robot information from the config file        \n",
    "        with open(robot_interface_config, 'r') as f:\n",
    "            robot_config = yaml.safe_load(f)\n",
    "\n",
    "        self.robot_config = robot_config\n",
    "        robot_name = robot_config['device']['name']\n",
    "        self.lcm_trigger_toppic = f'{robot_name}_trigger'\n",
    "        self.cmd_dim = \\\n",
    "        [v['size'] for v in robot_config['device']['controls'].values()][1]\n",
    "        self.robot_sensors = list(robot_config['device']['sensors'].keys())\n",
    "        self.robot_cmd = list(robot_config['device']['controls'].keys())[1]\n",
    "\n",
    "        # Instantiate a Dynamic Graph Head (DGH) class to connect to the robot\n",
    "        self.head = dynamic_graph_manager_cpp_bindings.DGMHead(robot_interface_config)\n",
    "\n",
    "        # Threading Interface for getting sync triggers from the DGM over LCM\n",
    "        self.trigger_msg = ipc_trigger_t()\n",
    "        self.lc = lcm.LCM()\n",
    "        self.subscription = self.lc.subscribe(\n",
    "            self.lcm_trigger_toppic, self.trigger_callback\n",
    "        )\n",
    "        self.subscription.set_queue_capacity(1)\n",
    "        self.running = True\n",
    "        self.lcm_thread = threading.Thread(target=self.LCMThreadFunc)\n",
    "        self.lcm_thread.start()\n",
    "        # Enable the ZMQ interface for the PlotJuggler\n",
    "        if self.plotting:\n",
    "            # Interface for plotting and logging the data\n",
    "            self.context = zmq.Context()\n",
    "            self.socket = self.context.socket(zmq.PUB)\n",
    "            self.socket.bind(f\"tcp://*:{self.plotter_port}\")\n",
    "        sleep(0.2)\n",
    "        print(\"Interface Running...\")\n",
    "\n",
    "\n",
    "    def LCMThreadFunc(self):\n",
    "\n",
    "        while self.running:\n",
    "            rfds, wfds, efds = select.select([self.lc.fileno()], [], [], 0.5)\n",
    "            if rfds: # Handle only if there are data in the interface file\n",
    "                self.lc.handle()\n",
    "\n",
    "    def trigger_callback(self, channel, data):\n",
    "        msg = ipc_trigger_t.decode(data)\n",
    "        self.trigger_timestamp = \\\n",
    "            np.array(msg.timestamp).reshape(1, 1) / 1000000\n",
    "        self.update()\n",
    "    \n",
    "    def update(self):\n",
    "        # Get the sensor values from the shared memory\n",
    "        self.head.read()\n",
    "        self.state = {sensor:self.head.get_sensor(sensor).copy() \n",
    "                 for sensor in self.robot_sensors}\n",
    "        q = np.hstack([self.state['joint_positions'],np.zeros((2))])\n",
    "        dq = np.hstack([self.state['joint_velocities'],np.zeros((2))])\n",
    "        self.updatePinocchio(q,dq)\n",
    "        \n",
    "    def readStates(self):\n",
    "        \"\"\"\n",
    "        state contains:\n",
    "        -------------------------------------\n",
    "        q: joint position\n",
    "        dq: joint velocity\n",
    "        f(x): drift\n",
    "        g(x): control influence matrix\n",
    "        G: gravitational vector\n",
    "        J_EE: end-effector Jacobian\n",
    "        dJ_EE: time derivative of end-effector Jacobian\n",
    "        pJ_EE: pseudo-inverse of end-effector Jacobian\n",
    "        R_EE: end-effector rotation matrix\n",
    "        P_EE: end-effector position vector\n",
    "        ---------------------------------------\n",
    "        Or None if no recent states are avialable\n",
    "        \"\"\"\n",
    "        if time.time()-self.trigger_timestamp > 0.2:\n",
    "            self.state = None\n",
    "            return None\n",
    "        else:\n",
    "            return self.robot_states\n",
    "\n",
    "    def setCommand(self, cmd):\n",
    "        self.head.set_control(self.robot_cmd, cmd.reshape(self.cmd_dim, 1))\n",
    "        self.head.set_control(\"ctrl_stamp\", np.array(self.trigger_timestamp).reshape(1, 1))\n",
    "        self.head.write()\n",
    "        self.cmd_log = cmd\n",
    "    \n",
    "    def plotterUpdate(self):\n",
    "        assert self.plotter, 'Plotter interface is not enabled.'\n",
    "        if self.state is not None:\n",
    "            state = {k:v.tolist() for k,v in self.state.item()}\n",
    "            data = {\n",
    "                    \"timestamp\": self.trigger_timestamp,\n",
    "                    \"cmd\": self.cmd_log.tolist(),\n",
    "                    \"robot_states\": state,\n",
    "                    }\n",
    "            self.socket.send_string(json.dumps(data))\n",
    "\n",
    "    def close(self):\n",
    "        self.running = False\n",
    "        self.controller = None\n",
    "        self.lcm_thread.join()\n",
    "        self.lc.unsubscribe(self.subscription)\n",
    "        if self.plotting:\n",
    "            self.socket.close()\n",
    "        del self.lc\n",
    "        del self.head\n",
    "        print(\"Interface Closed.\")        \n",
    "\n",
    "    def updatePinocchio(self, q, dq):\n",
    "        self.robot.computeJointJacobians(q)\n",
    "        self.robot.framesForwardKinematics(q)\n",
    "        self.robot.centroidalMomentum(q, dq)\n",
    "        # Get Jacobian from grasp target frame\n",
    "        # preprocessing is done in get_state_update_pinocchio()\n",
    "        jacobian = self.robot.getFrameJacobian(self.EE_FRAME_ID, self.jacobian_frame)\n",
    "\n",
    "        # Get pseudo-inverse of frame Jacobian\n",
    "        pinv_jac = np.linalg.pinv(jacobian)\n",
    "\n",
    "        dJ = pin.getFrameJacobianTimeVariation(\n",
    "            self.robot.model, self.robot.data, self.EE_FRAME_ID, self.jacobian_frame\n",
    "        )\n",
    "        # Get dynamics \n",
    "        Minv = pin.computeMinverse(self.robot.model, self.robot.data, q)\n",
    "        M = self.robot.mass(q)\n",
    "        nle = self.robot.nle(q, dq)\n",
    "        f = np.vstack((dq[:, np.newaxis], -Minv @ nle[:, np.newaxis]))\n",
    "        g = np.vstack((np.zeros((9, 9)), Minv))\n",
    "\n",
    "        self.robot_states = {\n",
    "                            \"q\": q,\n",
    "                            \"dq\": dq,\n",
    "                            \"f(x)\": f,\n",
    "                            \"g(x)\": g,\n",
    "                            \"M(q)\": M,\n",
    "                            \"M(q)^{-1}\": Minv,\n",
    "                            \"nle\": nle,\n",
    "                            \"G\": self.robot.gravity(q),\n",
    "                            \"J_EE\": jacobian,\n",
    "                            \"dJ_EE\": dJ,\n",
    "                            \"pJ_EE\": pinv_jac,\n",
    "                            \"R_EE\": copy.deepcopy(self.robot.data.oMf[self.EE_FRAME_ID].rotation),\n",
    "                            \"P_EE\": copy.deepcopy(self.robot.data.oMf[self.EE_FRAME_ID].translation),\n",
    "                        }"
   ]
  },
  {
   "cell_type": "code",
   "execution_count": 3,
   "metadata": {},
   "outputs": [
    {
     "name": "stdout",
     "output_type": "stream",
     "text": [
      "Loading parameters from /usr/local/lib/python3.8/dist-packages/dgh_franka/interface_configs/fr3_joint_kin_interface.yaml\n",
      "Seting up cond_var\n",
      "Interface Running...\n"
     ]
    }
   ],
   "source": [
    "from dgh_franka.heads import FrankaDGH \n",
    "dgh = FrankaDGH(interface_type='joint_kin_interface')"
   ]
  },
  {
   "cell_type": "code",
   "execution_count": 5,
   "metadata": {},
   "outputs": [],
   "source": [
    "dgh.readStates()"
   ]
  },
  {
   "cell_type": "code",
   "execution_count": null,
   "metadata": {},
   "outputs": [],
   "source": [
    "np.hstack([dgh.state['joint_positions'],np.zeros((2,))])"
   ]
  },
  {
   "cell_type": "code",
   "execution_count": 3,
   "metadata": {},
   "outputs": [
    {
     "name": "stdout",
     "output_type": "stream",
     "text": [
      "Interface Closed.\n"
     ]
    }
   ],
   "source": [
    "dgh.close()"
   ]
  },
  {
   "cell_type": "code",
   "execution_count": null,
   "metadata": {},
   "outputs": [],
   "source": []
  }
 ],
 "metadata": {
  "kernelspec": {
   "display_name": "Python 3",
   "language": "python",
   "name": "python3"
  },
  "language_info": {
   "codemirror_mode": {
    "name": "ipython",
    "version": 3
   },
   "file_extension": ".py",
   "mimetype": "text/x-python",
   "name": "python",
   "nbconvert_exporter": "python",
   "pygments_lexer": "ipython3",
   "version": "3.8.10"
  },
  "orig_nbformat": 4,
  "vscode": {
   "interpreter": {
    "hash": "916dbcbb3f70747c44a77c7bcd40155683ae19c65e1c03b4aa3499c5328201f1"
   }
  }
 },
 "nbformat": 4,
 "nbformat_minor": 2
}
