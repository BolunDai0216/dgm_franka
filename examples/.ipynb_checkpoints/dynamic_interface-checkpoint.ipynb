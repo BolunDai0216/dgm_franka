{
 "cells": [
  {
   "cell_type": "code",
   "execution_count": null,
   "id": "c480ffaf",
   "metadata": {},
   "outputs": [],
   "source": [
    "#Add the path to the compiled dgm and dgh packages \n",
    "import sys\n",
    "sys.path.append('/usr/local/lib/python3/dist-packages/')\n",
    "#Import DGM and math libs\n",
    "import dynamic_graph_manager_cpp_bindings\n",
    "import threading\n",
    "import numpy as np\n",
    "#Import libs for communicating with the LCM sychronization messages from the DGM\n",
    "from lcm_msgs import ipc_trigger_t\n",
    "import lcm\n",
    "#Import the communication libs for connecting to the plotJuggler\n",
    "import zmq\n",
    "import math\n",
    "import json\n",
    "from time import sleep"
   ]
  },
  {
   "cell_type": "code",
   "execution_count": null,
   "id": "b347de03",
   "metadata": {},
   "outputs": [],
   "source": [
    "class FrankaDynamicDghManager():\n",
    "    \n",
    "    def __init__(self, robot_config, \n",
    "                 ds_ratio = 10, \n",
    "                 plotting = True, \n",
    "                 logging = True, \n",
    "                 max_log_count = 1e7, \n",
    "                 plotter_port=5555):\n",
    "        \n",
    "        self.controller = None\n",
    "        self.plotter_port = plotter_port\n",
    "        self.robot_config = robot_config\n",
    "        self.ds_ratio = ds_ratio\n",
    "        self.trigger_counter = 0\n",
    "        self.logging = logging\n",
    "        self.max_log_count = max_log_count\n",
    "        self.logging = logging\n",
    "        self.plotting = plotting\n",
    "        self.log_data = []\n",
    "        \n",
    "    \n",
    "    def thread(self):\n",
    "        while self.running:\n",
    "             self.lc.handle()  \n",
    "                \n",
    "    def start(self):\n",
    "        print('Starting the Thread ...')\n",
    "        \n",
    "        if self.plotting:\n",
    "            #Interface for plotting and logging the data\n",
    "            self.context = zmq.Context()\n",
    "            self.socket = self.context.socket(zmq.PUB)\n",
    "            self.socket.bind(f\"tcp://*:{self.plotter_port}\")\n",
    "            \n",
    "        #Interface for getting sync triggers from the DGM over LCM\n",
    "        self.msg = ipc_trigger_t()\n",
    "        self.lc = lcm.LCM()\n",
    "        self.subscription = self.lc.subscribe(\"dgm_franka_control_trigger\",\\\n",
    "                                              self.trigger_callback)\n",
    "        self.subscription.set_queue_capacity(1)\n",
    "        \n",
    "        #Instantiate a Dynamic Graph Head (DGH) class to connect to the robot\n",
    "        self.head = dynamic_graph_manager_cpp_bindings.DGMHead(self.robot_config)\n",
    "        self.log_data = []\n",
    "        self.trigger_counter = 0\n",
    "        \n",
    "        self.running = True\n",
    "        self.lcm_thread = threading.Thread(target = self.thread)\n",
    "        self.lcm_thread.start()\n",
    "        sleep(0.2)\n",
    "        #initial_states can be used by the controller\n",
    "        self.initial_states = self.read_states()\n",
    "        print('Tread Started!')\n",
    "        \n",
    "    def stop(self):\n",
    "        print('Stopping the thread ...')\n",
    "        self.running = False\n",
    "        self.controller = None\n",
    "        self.lcm_thread.join()\n",
    "        self.lc.unsubscribe(self.subscription)\n",
    "        self.socket.close()\n",
    "        del(self.lc)\n",
    "        del(self.head)\n",
    "        print('Thread stopped!')\n",
    "        \n",
    "    \n",
    "    def read_states(self):\n",
    "        #Get the sensor values from the shared memory\n",
    "        self.head.read()\n",
    "        T  = self.head.get_sensor(\"joint_torques\").copy()\n",
    "        q  = self.head.get_sensor(\"joint_positions\").copy()\n",
    "        dq = self.head.get_sensor(\"joint_velocities\").copy() \n",
    "        return [q, dq, T]\n",
    "    \n",
    "    def write_command(self, cmd):\n",
    "        assert max(cmd.shape) == 7, \"The control command should be a vector of 7 numbers!\"\n",
    "        # Write the sensor values to the shared memory\n",
    "        self.head.set_control(\"ctrl_joint_torques\", cmd.reshape(7,1))\n",
    "        self.head.set_control(\"ctrl_stamp\", np.array(self.trigger_timestamp).reshape(1,1)/1000000)\n",
    "        self.head.write()\n",
    "    \n",
    "    def generate_plot_data(self, state):\n",
    "        q, dq, T = state\n",
    "        data ={\n",
    "                \"timestamp\": self.trigger_timestamp,\n",
    "                \"robot_states\": {\n",
    "                    \"q\": q.tolist(),\n",
    "                    \"dq\": dq.tolist(),\n",
    "                    \"torques\":T.tolist()\n",
    "                }\n",
    "              }\n",
    "        return data\n",
    "    \n",
    "    def trigger_callback(self, channel, data):\n",
    "        msg = ipc_trigger_t.decode(data)\n",
    "        self.trigger_timestamp = msg.timestamp\n",
    "        self.trigger_counter += 1\n",
    "        \n",
    "        if self.trigger_counter % self.ds_ratio == 0:\n",
    "            state = self.read_states()\n",
    "            \n",
    "            if self.plotting:\n",
    "                data = self.generate_plot_data(state)\n",
    "                self.socket.send_string( json.dumps(data) )\n",
    "                \n",
    "            if self.controller is not None:\n",
    "                cmd = self.controller(state, self.initial_states)\n",
    "                self.write_command(cmd)\n",
    "            else:\n",
    "                cmd = np.zeros((7,1))\n",
    "                self.write_command(cmd)\n",
    "                \n",
    "            if self.logging and self.trigger_counter/self.ds_ratio < self.max_log_count:\n",
    "                self.log_data.append([state, cmd.copy(), self.trigger_timestamp])\n",
    "                \n",
    "    def get_recorded_dataset(self):\n",
    "        states = []\n",
    "        for i in range(len(self.log_data[0][0])):\n",
    "            states.append(np.vstack([d[0][i] for d in self.log_data]))\n",
    "\n",
    "        cmds = np.vstack([d[1].T for d in self.log_data])\n",
    "        stamps = np.vstack([d[2] for d in self.log_data])\n",
    "\n",
    "        return stamps, states, cmds\n"
   ]
  },
  {
   "cell_type": "code",
   "execution_count": null,
   "id": "effca563",
   "metadata": {},
   "outputs": [],
   "source": [
    "robot_yaml = \"../dgm_franka/franka_dynamic_interface.yaml\"\n",
    "franka_dgh = FrankaDynamicDghManager(robot_yaml, ds_ratio=1)"
   ]
  },
  {
   "cell_type": "code",
   "execution_count": null,
   "id": "9380e203",
   "metadata": {},
   "outputs": [],
   "source": [
    "franka_dgh.start()"
   ]
  },
  {
   "cell_type": "code",
   "execution_count": null,
   "id": "0898d5f1",
   "metadata": {},
   "outputs": [],
   "source": [
    "franka_dgh.stop()"
   ]
  },
  {
   "cell_type": "code",
   "execution_count": null,
   "id": "110f945f",
   "metadata": {},
   "outputs": [],
   "source": [
    "stamps, states, cmds = franka_dgh.get_recorded_dataset()"
   ]
  },
  {
   "cell_type": "code",
   "execution_count": null,
   "id": "ffbefcfe",
   "metadata": {},
   "outputs": [],
   "source": [
    "import matplotlib.pyplot as plt"
   ]
  },
  {
   "cell_type": "code",
   "execution_count": null,
   "id": "c3dc2a76",
   "metadata": {},
   "outputs": [],
   "source": [
    "_ = plt.hist(stamps[1:]-stamps[0:-1], bins=100)"
   ]
  },
  {
   "cell_type": "code",
   "execution_count": null,
   "id": "34996dcb",
   "metadata": {},
   "outputs": [],
   "source": [
    "_ = plt.plot(states[2][:,3])"
   ]
  },
  {
   "cell_type": "code",
   "execution_count": null,
   "id": "bb82cbcd",
   "metadata": {},
   "outputs": [],
   "source": [
    "import pickle\n",
    "\n",
    "with open('franka_states_velocity_test.pckl', 'wb') as f:\n",
    "    pickle.dump([stamps, states, cmds], f)"
   ]
  },
  {
   "cell_type": "code",
   "execution_count": null,
   "id": "f82e350e",
   "metadata": {},
   "outputs": [],
   "source": []
  }
 ],
 "metadata": {
  "kernelspec": {
   "display_name": "Python 3 (ipykernel)",
   "language": "python",
   "name": "python3"
  },
  "language_info": {
   "codemirror_mode": {
    "name": "ipython",
    "version": 3
   },
   "file_extension": ".py",
   "mimetype": "text/x-python",
   "name": "python",
   "nbconvert_exporter": "python",
   "pygments_lexer": "ipython3",
   "version": "3.8.10"
  }
 },
 "nbformat": 4,
 "nbformat_minor": 5
}
